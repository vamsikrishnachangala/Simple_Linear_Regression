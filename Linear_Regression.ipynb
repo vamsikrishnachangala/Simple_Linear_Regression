{
  "nbformat": 4,
  "nbformat_minor": 0,
  "metadata": {
    "colab": {
      "name": "Linear_Regression.ipynb",
      "provenance": []
    },
    "kernelspec": {
      "name": "python3",
      "display_name": "Python 3"
    }
  },
  "cells": [
    {
      "cell_type": "markdown",
      "metadata": {
        "id": "CkItl2Qcxm_o",
        "colab_type": "text"
      },
      "source": [
        "# **Linear Regression**"
      ]
    },
    {
      "cell_type": "markdown",
      "metadata": {
        "id": "eypMiaa2aB7W",
        "colab_type": "text"
      },
      "source": [
        "importing required libraries"
      ]
    },
    {
      "cell_type": "code",
      "metadata": {
        "id": "fSVjsLdlZRME",
        "colab_type": "code",
        "colab": {}
      },
      "source": [
        "import matplotlib.pyplot as plt \n",
        "import numpy as np\n",
        "import pandas as pd"
      ],
      "execution_count": 2,
      "outputs": []
    },
    {
      "cell_type": "markdown",
      "metadata": {
        "id": "Awu2hYjnaUbL",
        "colab_type": "text"
      },
      "source": [
        "setiing max rows and max columns in pandas"
      ]
    },
    {
      "cell_type": "code",
      "metadata": {
        "id": "dpo1A853aY8_",
        "colab_type": "code",
        "colab": {}
      },
      "source": [
        "pd.set_option('display.max_rows',100)\n",
        "pd.set_option('display.max_columns',100)"
      ],
      "execution_count": 3,
      "outputs": []
    },
    {
      "cell_type": "markdown",
      "metadata": {
        "id": "F9u2JDr0vfSU",
        "colab_type": "text"
      },
      "source": [
        "importing dataset"
      ]
    },
    {
      "cell_type": "code",
      "metadata": {
        "id": "x29Y3cM4eTi6",
        "colab_type": "code",
        "colab": {
          "base_uri": "https://localhost:8080/",
          "height": 202
        },
        "outputId": "1ffcd45a-b34e-4ce5-8a56-34164bfcd895"
      },
      "source": [
        "dataset=pd.read_csv('Position_Salaries.csv')\n",
        "print(dataset)"
      ],
      "execution_count": 4,
      "outputs": [
        {
          "output_type": "stream",
          "text": [
            "            Position  Level   Salary\n",
            "0   Business Analyst      1    45000\n",
            "1  Junior Consultant      2    50000\n",
            "2  Senior Consultant      3    60000\n",
            "3            Manager      4    80000\n",
            "4    Country Manager      5   110000\n",
            "5     Region Manager      6   150000\n",
            "6            Partner      7   200000\n",
            "7     Senior Partner      8   300000\n",
            "8            C-level      9   500000\n",
            "9                CEO     10  1000000\n"
          ],
          "name": "stdout"
        }
      ]
    },
    {
      "cell_type": "markdown",
      "metadata": {
        "id": "xEZeIU9bfikW",
        "colab_type": "text"
      },
      "source": [
        "we can observe that level of job is coded according to position of job so position is a redundant feature"
      ]
    },
    {
      "cell_type": "markdown",
      "metadata": {
        "id": "354drAfJfy-p",
        "colab_type": "text"
      },
      "source": [
        "dropping redundant features"
      ]
    },
    {
      "cell_type": "code",
      "metadata": {
        "id": "vle05ap-f2LY",
        "colab_type": "code",
        "colab": {
          "base_uri": "https://localhost:8080/",
          "height": 202
        },
        "outputId": "3b75ed95-a2c5-41b5-dc79-169fe30b5645"
      },
      "source": [
        "dataset.drop(columns=['Position'],inplace=True)\n",
        "print(dataset)"
      ],
      "execution_count": 5,
      "outputs": [
        {
          "output_type": "stream",
          "text": [
            "   Level   Salary\n",
            "0      1    45000\n",
            "1      2    50000\n",
            "2      3    60000\n",
            "3      4    80000\n",
            "4      5   110000\n",
            "5      6   150000\n",
            "6      7   200000\n",
            "7      8   300000\n",
            "8      9   500000\n",
            "9     10  1000000\n"
          ],
          "name": "stdout"
        }
      ]
    },
    {
      "cell_type": "markdown",
      "metadata": {
        "id": "Ktknt-YegK5v",
        "colab_type": "text"
      },
      "source": [
        "we dont have any missing values and categorical values"
      ]
    },
    {
      "cell_type": "markdown",
      "metadata": {
        "id": "H3o-lgnvx0Uy",
        "colab_type": "text"
      },
      "source": [
        "splitting into dependent and independent variables"
      ]
    },
    {
      "cell_type": "code",
      "metadata": {
        "id": "El1Wn4FmgYOL",
        "colab_type": "code",
        "colab": {}
      },
      "source": [
        "x=dataset.iloc[:,0:1].values\n",
        "y=dataset.iloc[:,1].values"
      ],
      "execution_count": 6,
      "outputs": []
    },
    {
      "cell_type": "markdown",
      "metadata": {
        "id": "3hIS8XzMxyw8",
        "colab_type": "text"
      },
      "source": [
        "splitting into train and test"
      ]
    },
    {
      "cell_type": "code",
      "metadata": {
        "id": "icZ9dZ5px7-I",
        "colab_type": "code",
        "colab": {}
      },
      "source": [
        "from sklearn.model_selection import train_test_split\n",
        "x_train,x_test,y_train,y_test=train_test_split(x,y,test_size=0.2,random_state=0)"
      ],
      "execution_count": 7,
      "outputs": []
    },
    {
      "cell_type": "markdown",
      "metadata": {
        "id": "LOdqg7YlyNHs",
        "colab_type": "text"
      },
      "source": [
        "Training linear regression"
      ]
    },
    {
      "cell_type": "code",
      "metadata": {
        "id": "5k7yEvfsyg4f",
        "colab_type": "code",
        "colab": {
          "base_uri": "https://localhost:8080/",
          "height": 34
        },
        "outputId": "9d230e78-7eb3-47a1-f60d-e7097a583331"
      },
      "source": [
        "from sklearn.linear_model import LinearRegression\n",
        "lr=LinearRegression()\n",
        "lr.fit(x_train,y_train)"
      ],
      "execution_count": 9,
      "outputs": [
        {
          "output_type": "execute_result",
          "data": {
            "text/plain": [
              "LinearRegression(copy_X=True, fit_intercept=True, n_jobs=None, normalize=False)"
            ]
          },
          "metadata": {
            "tags": []
          },
          "execution_count": 9
        }
      ]
    },
    {
      "cell_type": "markdown",
      "metadata": {
        "id": "j05KGiwQy0Nf",
        "colab_type": "text"
      },
      "source": [
        "predicting test set"
      ]
    },
    {
      "cell_type": "code",
      "metadata": {
        "id": "Mg4UJ0T9y28m",
        "colab_type": "code",
        "colab": {}
      },
      "source": [
        "y_pred=lr.predict(x_test)"
      ],
      "execution_count": 10,
      "outputs": []
    },
    {
      "cell_type": "markdown",
      "metadata": {
        "id": "iuQWuI4sy6-f",
        "colab_type": "text"
      },
      "source": [
        "r2 score"
      ]
    },
    {
      "cell_type": "code",
      "metadata": {
        "id": "AUu9lYQPy6lm",
        "colab_type": "code",
        "colab": {
          "base_uri": "https://localhost:8080/",
          "height": 34
        },
        "outputId": "f323a247-dd89-42de-e939-94725a8a37ae"
      },
      "source": [
        "from sklearn.metrics import r2_score\n",
        "print(r2_score(y_test,y_pred))"
      ],
      "execution_count": 11,
      "outputs": [
        {
          "output_type": "stream",
          "text": [
            "0.9779215014976274\n"
          ],
          "name": "stdout"
        }
      ]
    },
    {
      "cell_type": "markdown",
      "metadata": {
        "id": "hDWzwb4JzF4I",
        "colab_type": "text"
      },
      "source": [
        "Visualizing the train set"
      ]
    },
    {
      "cell_type": "code",
      "metadata": {
        "id": "gp79F56qzIje",
        "colab_type": "code",
        "colab": {
          "base_uri": "https://localhost:8080/",
          "height": 295
        },
        "outputId": "4025601b-0b26-4e7b-aa6e-df901325dc85"
      },
      "source": [
        "plt.scatter(x_train, y_train, color = 'red')\n",
        "plt.plot(x_train, lr.predict(x_train), color = 'blue')\n",
        "plt.title('Truth or Bluff (Polynomial Regression)')\n",
        "plt.xlabel('Position level')\n",
        "plt.ylabel('Salary')\n",
        "plt.show()"
      ],
      "execution_count": 15,
      "outputs": [
        {
          "output_type": "display_data",
          "data": {
            "image/png": "[encoded data removed]",
            "text/plain": [
              "<Figure size 432x288 with 1 Axes>"
            ]
          },
          "metadata": {
            "tags": [],
            "needs_background": "light"
          }
        }
      ]
    },
    {
      "cell_type": "markdown",
      "metadata": {
        "id": "VczgDHshzoMb",
        "colab_type": "text"
      },
      "source": [
        "visualizng the test set"
      ]
    },
    {
      "cell_type": "code",
      "metadata": {
        "id": "VyJfSyYGzqKv",
        "colab_type": "code",
        "colab": {
          "base_uri": "https://localhost:8080/",
          "height": 295
        },
        "outputId": "a058e435-3213-437e-c441-c3fd1d865e5f"
      },
      "source": [
        "plt.scatter(x_test, y_test, color = 'red')\n",
        "plt.plot(x_test,y_pred, color = 'blue')\n",
        "plt.title('Truth or Bluff (Polynomial Regression)')\n",
        "plt.xlabel('Position level')\n",
        "plt.ylabel('Salary')\n",
        "plt.show()"
      ],
      "execution_count": 16,
      "outputs": [
        {
          "output_type": "display_data",
          "data": {
            "image/png": "[encoded data removed]",
            "text/plain": [
              "<Figure size 432x288 with 1 Axes>"
            ]
          },
          "metadata": {
            "tags": [],
            "needs_background": "light"
          }
        }
      ]
    }
  ]
}